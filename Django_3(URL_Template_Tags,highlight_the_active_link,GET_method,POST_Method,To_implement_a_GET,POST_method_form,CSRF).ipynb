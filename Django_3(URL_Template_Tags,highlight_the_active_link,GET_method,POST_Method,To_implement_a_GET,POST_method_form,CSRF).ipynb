{
  "nbformat": 4,
  "nbformat_minor": 0,
  "metadata": {
    "colab": {
      "provenance": []
    },
    "kernelspec": {
      "name": "python3",
      "display_name": "Python 3"
    },
    "language_info": {
      "name": "python"
    }
  },
  "cells": [
    {
      "cell_type": "markdown",
      "source": [
        "# **What are URL Template Tags in Django?**"
      ],
      "metadata": {
        "id": "_a-AhEBlhOoK"
      }
    },
    {
      "cell_type": "markdown",
      "source": [
        "**In Django, the {% url %} template tag is used to dynamically generate URLs in your HTML templates using the name of the view (not the hardcoded URL path). This makes your templates more robust and maintainable.**"
      ],
      "metadata": {
        "id": "dW3GyWLijeAi"
      }
    },
    {
      "cell_type": "markdown",
      "source": [
        "# **Example Setup:**"
      ],
      "metadata": {
        "id": "egnpdX8mjxuq"
      }
    },
    {
      "cell_type": "markdown",
      "source": [
        "# **urls.py**"
      ],
      "metadata": {
        "id": "9ZIWAUItj2NP"
      }
    },
    {
      "cell_type": "markdown",
      "source": [
        "\n",
        "\n",
        "```\n",
        "from django.urls import path\n",
        "from . import views\n",
        "\n",
        "urlpatterns = [\n",
        "    path('', views.home, name='home'),\n",
        "    path('about/', views.about, name='about'),\n",
        "    path('blog/<int:id>/', views.blog_detail, name='blog-detail'),\n",
        "]\n",
        "\n",
        "```\n",
        "\n"
      ],
      "metadata": {
        "id": "sNhmorpsj8RT"
      }
    },
    {
      "cell_type": "markdown",
      "source": [
        "**Note:name indicate the access of Urls**"
      ],
      "metadata": {
        "id": "UJRZInOqkAlb"
      }
    },
    {
      "cell_type": "markdown",
      "source": [
        "# **views.py**"
      ],
      "metadata": {
        "id": "oYtHqA13k9HG"
      }
    },
    {
      "cell_type": "markdown",
      "source": [
        "\n",
        "\n",
        "```\n",
        "\n",
        "from django.shortcuts import render\n",
        "\n",
        "def home(request):\n",
        "    return render(request, 'home.html')\n",
        "\n",
        "def about(request):\n",
        "    return render(request, 'about.html')\n",
        "\n",
        "def contact(request):\n",
        "    return render(request, 'contact.html')\n",
        "\n",
        "```\n",
        "\n"
      ],
      "metadata": {
        "id": "14kC-SHSk_uz"
      }
    },
    {
      "cell_type": "markdown",
      "source": [
        "# **template.html**"
      ],
      "metadata": {
        "id": "huEIpZwQkK2r"
      }
    },
    {
      "cell_type": "markdown",
      "source": [
        "\n",
        "\n",
        "```\n",
        "<!-- Link to home -->\n",
        "<a href=\"{% url 'home' %}\">Home</a>\n",
        "\n",
        "<!-- Link to about -->\n",
        "<a href=\"{% url 'about' %}\">About Us</a>\n",
        "\n",
        "<!-- Link to blog detail with ID 5 -->\n",
        "<a href=\"{% url 'blog-detail' 5 %}\">View Blog 5</a>\n",
        "\n",
        "```\n",
        "\n"
      ],
      "metadata": {
        "id": "ie8hOgW1kQcv"
      }
    },
    {
      "cell_type": "markdown",
      "source": [
        "# **✅ Benefits of {% url %}:**\n",
        "\n",
        "**You avoid hardcoding URLs.**\n",
        "\n",
        "If you change the path in urls.py, your templates will still work.\n",
        "\n",
        "It supports dynamic routing (with arguments like id)."
      ],
      "metadata": {
        "id": "9lyVABKDkaEI"
      }
    },
    {
      "cell_type": "markdown",
      "source": [
        "# **highlight the active link**"
      ],
      "metadata": {
        "id": "LWKW4-XInjSA"
      }
    },
    {
      "cell_type": "markdown",
      "source": [
        "**To highlight the active link in Django (for example, in the navbar), you can use the {% url %} tag and compare it with the current request path using request.path.**"
      ],
      "metadata": {
        "id": "eFEI4R8Tnn-S"
      }
    },
    {
      "cell_type": "markdown",
      "source": [
        "# **✅ Steps to Highlight Active Link in Django**\n",
        "\n",
        "1. **Enable request in Templates**\n",
        "\n",
        "In settings.py, make sure this is added:"
      ],
      "metadata": {
        "id": "I_Sx4cO9nvND"
      }
    },
    {
      "cell_type": "markdown",
      "source": [
        "\n",
        "\n",
        "```\n",
        "TEMPLATES = [\n",
        "    {\n",
        "        ...\n",
        "        'OPTIONS': {\n",
        "            'context_processors': [\n",
        "                ...\n",
        "                'django.template.context_processors.request',\n",
        "            ],\n",
        "        },\n",
        "    },\n",
        "]\n",
        "\n",
        "```\n",
        "\n"
      ],
      "metadata": {
        "id": "fVX9-khvn2eS"
      }
    },
    {
      "cell_type": "markdown",
      "source": [
        "**2. HTML Example for Active Link**"
      ],
      "metadata": {
        "id": "Kyq-jGBen6Py"
      }
    },
    {
      "cell_type": "markdown",
      "source": [
        "\n",
        "\n",
        "```\n",
        "<!-- header.html -->\n",
        "<ul class=\"navbar\">\n",
        "    <li class=\"{% if request.path == '/' %}active{% endif %}\">\n",
        "        <a href=\"{% url 'home' %}\">Home</a>\n",
        "    </li>\n",
        "    <li class=\"{% if request.path == '/about/' %}active{% endif %}\">\n",
        "        <a href=\"{% url 'about' %}\">About</a>\n",
        "    </li>\n",
        "    <li class=\"{% if request.path == '/contact/' %}active{% endif %}\">\n",
        "        <a href=\"{% url 'contact' %}\">Contact</a>\n",
        "    </li>\n",
        "</ul>\n",
        "\n",
        "```\n",
        "\n"
      ],
      "metadata": {
        "id": "xUuS-lOan-4O"
      }
    },
    {
      "cell_type": "markdown",
      "source": [
        "**3.CSS for Highlighting**"
      ],
      "metadata": {
        "id": "jNW9uQUKoIHq"
      }
    },
    {
      "cell_type": "markdown",
      "source": [
        "\n",
        "\n",
        "```\n",
        ".active a {\n",
        "    color: red; /* or any other style */\n",
        "    font-weight: bold;\n",
        "}\n",
        "\n",
        "```\n",
        "\n"
      ],
      "metadata": {
        "id": "frO2d_vIoOTR"
      }
    },
    {
      "cell_type": "markdown",
      "source": [
        "![image.png](data:image/png;base64,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)"
      ],
      "metadata": {
        "id": "h1HJESJpoWvI"
      }
    },
    {
      "cell_type": "markdown",
      "source": [
        "# **what is mean by GET method?**"
      ],
      "metadata": {
        "id": "GjixDMoJp4zR"
      }
    },
    {
      "cell_type": "markdown",
      "source": [
        "**The GET method sends the encoded user information appended to the page request. The page and the encoded information are separated by the ? character.**\n",
        "\n",
        "https://www.wscubetech.com/index.php?name1=value1&name2=value2\n",
        "\n",
        "Restricted to send up to 1024 characters only.\n",
        "\n",
        "Never use GET method if you have password or other sensitive information.\n",
        "\n",
        "Cannot be used to send binary data, like images or word documents, to the server.\n",
        "\n"
      ],
      "metadata": {
        "id": "7z3wPyzyqbb5"
      }
    },
    {
      "cell_type": "markdown",
      "source": [
        "# **what is Mean by POST Method?**"
      ],
      "metadata": {
        "id": "3he4pm_ersOG"
      }
    },
    {
      "cell_type": "markdown",
      "source": [
        "**The POST method transfers information via HTTP headers. The information is encoded as described in case of GET method and put into a header called QUERY_STRING.**\n",
        "\n",
        "**Data is sent in the HTTP request body**\n",
        "\n",
        "Does not have any restriction on data size to be sent.\n",
        "\n",
        "Can be used to send ASCII as well as binary data.\n",
        "\n",
        "The data sent by POST method goes through HTTP header so security depends on HTTP protocol.\n",
        "\n",
        "By using Secure HTTP, you can make sure that your information is secure."
      ],
      "metadata": {
        "id": "-rv3ZRMgr2Mg"
      }
    },
    {
      "cell_type": "markdown",
      "source": [
        "# **To implement a GET method form**"
      ],
      "metadata": {
        "id": "up8kV9NkeKvi"
      }
    },
    {
      "cell_type": "markdown",
      "source": [
        "# views.py"
      ],
      "metadata": {
        "id": "xBsYzYR1ePcz"
      }
    },
    {
      "cell_type": "markdown",
      "source": [
        "\n",
        "\n",
        "```\n",
        "from django.http import HttpResponse\n",
        "from django.shortcuts import render\n",
        "\n",
        "def my_get_form(request):\n",
        "    name = request.GET.get('name')  # Get 'name' from URL query\n",
        "    if name:\n",
        "        return HttpResponse(f\"<h2>Hello, {name}!</h2>\")\n",
        "    return render(request, 'form.html')\n",
        "\n",
        "```\n",
        "\n"
      ],
      "metadata": {
        "id": "P0DhIrmRehzw"
      }
    },
    {
      "cell_type": "markdown",
      "source": [
        "# form.html"
      ],
      "metadata": {
        "id": "cr0Aex11eqZi"
      }
    },
    {
      "cell_type": "markdown",
      "source": [
        "\n",
        "\n",
        "```\n",
        "<!DOCTYPE html>\n",
        "<html>\n",
        "<head>\n",
        "    <title>GET Form</title>\n",
        "</head>\n",
        "<body>\n",
        "    <h2>Enter your name:</h2>\n",
        "    <form method=\"get\">\n",
        "        <input type=\"text\" name=\"name\" placeholder=\"Your name\">\n",
        "        <input type=\"submit\" value=\"Submit\">\n",
        "    </form>\n",
        "</body>\n",
        "</html>\n",
        "\n",
        "```\n",
        "\n"
      ],
      "metadata": {
        "id": "J0Dm8hGoexoy"
      }
    },
    {
      "cell_type": "markdown",
      "source": [
        "# urls.py"
      ],
      "metadata": {
        "id": "nPPVqOCXe25w"
      }
    },
    {
      "cell_type": "markdown",
      "source": [
        "\n",
        "\n",
        "```\n",
        "from django.urls import path\n",
        "from .views import my_get_form\n",
        "\n",
        "urlpatterns = [\n",
        "    path('getform/', my_get_form),\n",
        "]\n",
        "\n",
        "```\n",
        "\n"
      ],
      "metadata": {
        "id": "xiaFNcqHe9ab"
      }
    },
    {
      "cell_type": "markdown",
      "source": [
        "\n",
        "\n",
        "```\n",
        "http://localhost:8000/getform/?name=Alice\n",
        "\n",
        "```\n",
        "\n"
      ],
      "metadata": {
        "id": "NZP6LIt0fA9r"
      }
    },
    {
      "cell_type": "markdown",
      "source": [
        "# **what is mean by CSRF (Cross-Site Request Forgery)?**"
      ],
      "metadata": {
        "id": "1hX5KoJHgvxx"
      }
    },
    {
      "cell_type": "markdown",
      "source": [
        "CSRF is like someone tricking you into clicking a button or submitting a form on a website you're logged into, but you didn't actually want to do it. For example, imagine you're logged into your bank account, and a hacker makes you unknowingly click a button that transfers money from your account.\n",
        "\n",
        "To stop this from happening, Django uses something called a CSRF token. Think of it like a special password that is hidden inside forms on the website. When you submit a form, the website checks if you have the correct token. If it doesn't match, the form won't be submitted, making sure only the right user can make changes."
      ],
      "metadata": {
        "id": "VHnmBtE_hRQW"
      }
    },
    {
      "cell_type": "markdown",
      "source": [
        "# **Implementing a POST Method Form with CSRF Token in Django**\n",
        "Here’s how you can implement a POST form with CSRF protection in Django."
      ],
      "metadata": {
        "id": "n9glBJXWhb3v"
      }
    },
    {
      "cell_type": "markdown",
      "source": [
        "# **Create a Form in forms.py**\n",
        "\n",
        "First, create a simple form that accepts the user's name:\n",
        "\n"
      ],
      "metadata": {
        "id": "CwUcvwF7h3_s"
      }
    },
    {
      "cell_type": "markdown",
      "source": [
        "\n",
        "\n",
        "```\n",
        "# forms.py\n",
        "from django import forms\n",
        "\n",
        "class NameForm(forms.Form):\n",
        "    name = forms.CharField(max_length=100, label=\"Enter your name\")\n",
        "\n",
        "```\n",
        "\n"
      ],
      "metadata": {
        "id": "ssXoT_1th97h"
      }
    },
    {
      "cell_type": "markdown",
      "source": [
        "# **Create a View in views.py**\n",
        "Next, create a view to handle both GET and POST requests. It will display the form and handle form submissions."
      ],
      "metadata": {
        "id": "9UsarKyBiBAp"
      }
    },
    {
      "cell_type": "markdown",
      "source": [
        "\n",
        "\n",
        "```\n",
        "# views.py\n",
        "from django.shortcuts import render\n",
        "from .forms import NameForm\n",
        "\n",
        "def name_view(request):\n",
        "    if request.method == 'POST':\n",
        "        form = NameForm(request.POST)\n",
        "        if form.is_valid():\n",
        "            name = form.cleaned_data['name']\n",
        "            return render(request, 'thanks.html', {'name': name})\n",
        "    else:\n",
        "        form = NameForm()\n",
        "\n",
        "    return render(request, 'name_form.html', {'form': form})\n",
        "\n",
        "```\n",
        "\n"
      ],
      "metadata": {
        "id": "lXgJmI0DiEr-"
      }
    },
    {
      "cell_type": "markdown",
      "source": [
        "# **Create Templates for the Form and Result**\n",
        "name_form.html: This template shows the form and includes the CSRF token.\n"
      ],
      "metadata": {
        "id": "OqZEPvv4iKEL"
      }
    },
    {
      "cell_type": "markdown",
      "source": [
        "\n",
        "\n",
        "```\n",
        "<!-- name_form.html -->\n",
        "<!DOCTYPE html>\n",
        "<html lang=\"en\">\n",
        "<head>\n",
        "    <meta charset=\"UTF-8\">\n",
        "    <title>Submit your name</title>\n",
        "</head>\n",
        "<body>\n",
        "    <h2>Enter your name:</h2>\n",
        "    <form method=\"post\">\n",
        "        {% csrf_token %}\n",
        "        {{ form.as_p }}\n",
        "        <button type=\"submit\">Submit</button>\n",
        "    </form>\n",
        "</body>\n",
        "</html>\n",
        "\n",
        "```\n",
        "\n"
      ],
      "metadata": {
        "id": "Z-Dva4rXiI1i"
      }
    },
    {
      "cell_type": "markdown",
      "source": [
        "# thanks.html:\n",
        "This template displays a thank you message after the form is submitted.\n"
      ],
      "metadata": {
        "id": "TQSaMpGniUBY"
      }
    },
    {
      "cell_type": "markdown",
      "source": [
        "\n",
        "\n",
        "```\n",
        "<!-- thanks.html -->\n",
        "<!DOCTYPE html>\n",
        "<html lang=\"en\">\n",
        "<head>\n",
        "    <meta charset=\"UTF-8\">\n",
        "    <title>Thanks</title>\n",
        "</head>\n",
        "<body>\n",
        "    <h2>Thank you, {{ name }}!</h2>\n",
        "</body>\n",
        "</html>\n",
        "\n",
        "```\n",
        "\n"
      ],
      "metadata": {
        "id": "qJM1VhgNidAq"
      }
    },
    {
      "cell_type": "markdown",
      "source": [
        "# **Set Up the URL in urls.py**\n",
        "Configure the URL pattern to link to the view."
      ],
      "metadata": {
        "id": "QihTXCsciiOh"
      }
    },
    {
      "cell_type": "markdown",
      "source": [
        "\n",
        "\n",
        "```\n",
        "# urls.py\n",
        "from django.urls import path\n",
        "from .views import name_view\n",
        "\n",
        "urlpatterns = [\n",
        "    path('name/', name_view, name='name_view'),\n",
        "]\n",
        "\n",
        "```\n",
        "\n"
      ],
      "metadata": {
        "id": "3Wm5AAH2ilZR"
      }
    },
    {
      "cell_type": "markdown",
      "source": [
        "\n",
        "\n",
        "```\n",
        "Enter your name:\n",
        "[ ________________________ ]  (input field for the name)\n",
        "[Submit]  (submit button)\n",
        "\n",
        "```\n",
        "\n"
      ],
      "metadata": {
        "id": "A_kexaldisR9"
      }
    },
    {
      "cell_type": "markdown",
      "source": [
        "\n",
        "\n",
        "```\n",
        "Thank you, Alice!\n",
        "\n",
        "```\n",
        "\n"
      ],
      "metadata": {
        "id": "2chdOvRFi1Yi"
      }
    },
    {
      "cell_type": "code",
      "execution_count": null,
      "metadata": {
        "id": "Om8skXwrguzd"
      },
      "outputs": [],
      "source": []
    }
  ]
}